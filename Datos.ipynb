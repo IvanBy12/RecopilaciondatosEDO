{
  "nbformat": 4,
  "nbformat_minor": 0,
  "metadata": {
    "colab": {
      "provenance": []
    },
    "kernelspec": {
      "name": "python3",
      "display_name": "Python 3"
    },
    "language_info": {
      "name": "python"
    }
  },
  "cells": [
    {
      "cell_type": "markdown",
      "source": [
        "Importamos librerias y la informacion extraida del forms"
      ],
      "metadata": {
        "id": "u4TMPShkCmGu"
      }
    },
    {
      "cell_type": "code",
      "execution_count": 11,
      "metadata": {
        "id": "vR0Ijha0q-wR"
      },
      "outputs": [],
      "source": [
        "import pandas as pd\n",
        "import numpy as np\n",
        "\n",
        "file_path = '/content/data.csv'\n",
        "data = pd.read_csv(file_path)\n"
      ]
    },
    {
      "cell_type": "markdown",
      "source": [
        "Cargamos los datos, limpiamos algunas columnas para mayor eficiencia en la busqueda de datos"
      ],
      "metadata": {
        "id": "AJaqola2CrPb"
      }
    },
    {
      "cell_type": "code",
      "source": [
        "# Cleaning column names for easier access\n",
        "data.columns = [col.strip() for col in data.columns]\n",
        "\n",
        "# Extracting relevant columns for analysis\n",
        "# We will focus on columns related to opinion on the metro, use probability, and perceived benefits and concerns\n",
        "metro_opinion = data['¿Qué tan favorable es su opinión general acerca del proyecto del metro en Bogotá?']\n",
        "likely_use = data['¿Qué tan probable es que usted utilice el metro cuando esté en funcionamiento?']\n",
        "perceived_benefits = data['¿Qué beneficios percibe en la construcción del metro?']\n",
        "perceived_concerns = data['¿Qué preocupaciones tiene sobre el proyecto del metro?']\n",
        "\n",
        "# Display a summary of the relevant columns to understand the data distribution\n",
        "metro_opinion.value_counts(), likely_use.value_counts(), perceived_benefits.value_counts(), perceived_concerns.value_counts()"
      ],
      "metadata": {
        "colab": {
          "base_uri": "https://localhost:8080/"
        },
        "id": "gN3PKIZRrDhC",
        "outputId": "3521d52d-9930-4e2f-b914-2d37ce3c4f1d"
      },
      "execution_count": 12,
      "outputs": [
        {
          "output_type": "execute_result",
          "data": {
            "text/plain": [
              "(¿Qué tan favorable es su opinión general acerca del proyecto del metro en Bogotá?\n",
              " Neutra           17\n",
              " Favorable        13\n",
              " Muy favorable     7\n",
              " Desfavorable      2\n",
              " Name: count, dtype: int64,\n",
              " ¿Qué tan probable es que usted utilice el metro cuando esté en funcionamiento?\n",
              " Probable         19\n",
              " Muy probable     14\n",
              " Poco probable     6\n",
              " Nada probable     1\n",
              " Name: count, dtype: int64,\n",
              " ¿Qué beneficios percibe en la construcción del metro?\n",
              " Reducción de tiempo de viaje;Menor congestión en TransMilenio;Mejora de la movilidad en general                                                          6\n",
              " Reducción de tiempo de viaje;Menor congestión en TransMilenio                                                                                            5\n",
              " Reducción de tiempo de viaje;Menor congestión en TransMilenio;Mayor comodidad;Impacto positivo en el medio ambiente;Mejora de la movilidad en general    5\n",
              " Reducción de tiempo de viaje                                                                                                                             4\n",
              " Reducción de tiempo de viaje;Menor congestión en TransMilenio;Mayor comodidad;Mejora de la movilidad en general                                          3\n",
              " Reducción de tiempo de viaje;Mayor comodidad                                                                                                             2\n",
              " Menor congestión en TransMilenio;Mejora de la movilidad en general                                                                                       2\n",
              " Menor congestión en TransMilenio;Mayor comodidad;Mejora de la movilidad en general                                                                       2\n",
              " Reducción de tiempo de viaje;Impacto positivo en el medio ambiente;Mejora de la movilidad en general                                                     2\n",
              " Mejora de la movilidad en general                                                                                                                        2\n",
              " Impacto positivo en el medio ambiente                                                                                                                    2\n",
              " Mayor comodidad                                                                                                                                          2\n",
              " Reducción de tiempo de viaje;Impacto positivo en el medio ambiente                                                                                       1\n",
              " Impacto positivo en el medio ambiente;Mejora de la movilidad en general                                                                                  1\n",
              " Reducción de tiempo de viaje;Mejora de la movilidad en general                                                                                           1\n",
              " Name: count, dtype: int64,\n",
              " ¿Qué preocupaciones tiene sobre el proyecto del metro?\n",
              " Costo del proyecto;Aumento en los impuestos;Interrupción del tráfico durante la construcción                                       6\n",
              " Interrupción del tráfico durante la construcción                                                                                   6\n",
              " Costo del proyecto;Aumento en los impuestos;Posible impacto ambienta;Interrupción del tráfico durante la construcción;Seguridad    5\n",
              " Aumento en los impuestos;Posible impacto ambienta;Interrupción del tráfico durante la construcción                                 4\n",
              " Aumento en los impuestos;Interrupción del tráfico durante la construcción;Seguridad                                                4\n",
              " Costo del proyecto;Aumento en los impuestos;Interrupción del tráfico durante la construcción;Seguridad                             3\n",
              " Interrupción del tráfico durante la construcción;Seguridad                                                                         3\n",
              " Aumento en los impuestos;Interrupción del tráfico durante la construcción                                                          2\n",
              " Aumento en los impuestos                                                                                                           2\n",
              " Seguridad                                                                                                                          1\n",
              " Aumento en los impuestos;Posible impacto ambienta;Interrupción del tráfico durante la construcción;Seguridad                       1\n",
              " Costo del proyecto;Aumento en los impuestos                                                                                        1\n",
              " Posible impacto ambienta                                                                                                           1\n",
              " Costo del proyecto;Interrupción del tráfico durante la construcción                                                                1\n",
              " Name: count, dtype: int64)"
            ]
          },
          "metadata": {},
          "execution_count": 12
        }
      ]
    }
  ]
}